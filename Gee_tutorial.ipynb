{
 "cells": [
  {
   "cell_type": "markdown",
   "id": "b6a3afc1",
   "metadata": {},
   "source": [
    "# GEE in Jupyter Notebook\n"
   ]
  },
  {
   "cell_type": "code",
   "execution_count": 1,
   "id": "97c44d5f",
   "metadata": {},
   "outputs": [],
   "source": [
    "import ee\n",
    "import geemap\n"
   ]
  },
  {
   "cell_type": "markdown",
   "id": "0ca1358f",
   "metadata": {},
   "source": [
    "## Create an interactive map\n"
   ]
  },
  {
   "cell_type": "code",
   "execution_count": 5,
   "id": "be16cbf8",
   "metadata": {},
   "outputs": [
    {
     "data": {
      "application/vnd.jupyter.widget-view+json": {
       "model_id": "f6be187c9fa1415599c2da20cca1c89f",
       "version_major": 2,
       "version_minor": 0
      },
      "text/plain": [
       "Map(center=[41.376139, 1.186386], controls=(WidgetControl(options=['position', 'transparent_bg'], widget=HBox(…"
      ]
     },
     "metadata": {},
     "output_type": "display_data"
    }
   ],
   "source": [
    "Map = geemap.Map(center=(41.376139, 1.186386), zoom=7)\n",
    "Map"
   ]
  },
  {
   "cell_type": "markdown",
   "id": "5d10ba31",
   "metadata": {},
   "source": [
    "## Add basemaps"
   ]
  },
  {
   "cell_type": "code",
   "execution_count": 14,
   "id": "300918f9",
   "metadata": {
    "scrolled": true
   },
   "outputs": [
    {
     "data": {
      "application/vnd.jupyter.widget-view+json": {
       "model_id": "bf714735429b4bce892794606f92cac6",
       "version_major": 2,
       "version_minor": 0
      },
      "text/plain": [
       "Map(center=[40, -100], controls=(WidgetControl(options=['position', 'transparent_bg'], widget=HBox(children=(T…"
      ]
     },
     "metadata": {},
     "output_type": "display_data"
    }
   ],
   "source": [
    "Map = geemap.Map()\n",
    "Map"
   ]
  },
  {
   "cell_type": "code",
   "execution_count": 15,
   "id": "42860e48",
   "metadata": {},
   "outputs": [],
   "source": [
    "Map.add_basemap('ESRI')"
   ]
  },
  {
   "cell_type": "code",
   "execution_count": 16,
   "id": "eb8dc726",
   "metadata": {},
   "outputs": [],
   "source": [
    "Map.add_basemap('OpenTopoMap')"
   ]
  },
  {
   "cell_type": "code",
   "execution_count": 11,
   "id": "54378fb8",
   "metadata": {},
   "outputs": [
    {
     "data": {
      "application/vnd.jupyter.widget-view+json": {
       "model_id": "4368b760652d4d3ea04e32f9b5c69ef5",
       "version_major": 2,
       "version_minor": 0
      },
      "text/plain": [
       "Map(center=[40, -100], controls=(WidgetControl(options=['position', 'transparent_bg'], widget=HBox(children=(T…"
      ]
     },
     "metadata": {},
     "output_type": "display_data"
    }
   ],
   "source": [
    "Map = geemap.Map()\n",
    "Map.basemap_demo()\n",
    "Map"
   ]
  },
  {
   "cell_type": "markdown",
   "id": "6551c194",
   "metadata": {},
   "source": [
    "## Add WMS and XYZ tile layers"
   ]
  },
  {
   "cell_type": "code",
   "execution_count": 53,
   "id": "9007ddec",
   "metadata": {
    "scrolled": true
   },
   "outputs": [
    {
     "data": {
      "application/vnd.jupyter.widget-view+json": {
       "model_id": "1f5d6ee642f64928bf6d5fee084f376e",
       "version_major": 2,
       "version_minor": 0
      },
      "text/plain": [
       "Map(center=[41.376139, 1.186386], controls=(WidgetControl(options=['position', 'transparent_bg'], widget=HBox(…"
      ]
     },
     "metadata": {},
     "output_type": "display_data"
    }
   ],
   "source": [
    "Map = geemap.Map(center=(41.376139, 1.186386), zoom=7)\n",
    "Map"
   ]
  },
  {
   "cell_type": "code",
   "execution_count": 54,
   "id": "b3348e75",
   "metadata": {},
   "outputs": [],
   "source": [
    "# https://viewer.nationalmap.gov/services/\n",
    "url = 'https://betaserver.icgc.cat/tileserver3/tileserver.php/redtopo/{z}/{x}/{y}.pbf'\n",
    "Map.add_tile_layer(url, name='Google Satellite', attribution='Google')"
   ]
  },
  {
   "cell_type": "code",
   "execution_count": 55,
   "id": "42446ab3",
   "metadata": {},
   "outputs": [],
   "source": [
    "naip_url = 'http://ows.mundialis.de/services/service?request=GetCapabilities'\n",
    "Map.add_wms_layer(url=naip_url, layers='0', name='NAIP Imagery', format='image/png', shown=True)"
   ]
  },
  {
   "cell_type": "markdown",
   "id": "70d17380",
   "metadata": {},
   "source": [
    "## Add Earth Engine data layers"
   ]
  },
  {
   "cell_type": "code",
   "execution_count": 56,
   "id": "797d56d6",
   "metadata": {},
   "outputs": [
    {
     "data": {
      "application/vnd.jupyter.widget-view+json": {
       "model_id": "e4d31b42f62a46d28fe21f40187c1c49",
       "version_major": 2,
       "version_minor": 0
      },
      "text/plain": [
       "Map(center=[40, -100], controls=(WidgetControl(options=['position', 'transparent_bg'], widget=HBox(children=(T…"
      ]
     },
     "metadata": {},
     "output_type": "display_data"
    }
   ],
   "source": [
    "Map = geemap.Map()\n",
    "Map"
   ]
  },
  {
   "cell_type": "code",
   "execution_count": 57,
   "id": "2997f112",
   "metadata": {},
   "outputs": [],
   "source": [
    "# Add Earth Engine dataset\n",
    "dem = ee.Image('USGS/SRTMGL1_003')\n",
    "landcover = ee.Image(\"ESA/GLOBCOVER_L4_200901_200912_V2_3\").select('landcover')\n",
    "landsat7 = ee.Image('LE7_TOA_5YEAR/1999_2003')\n",
    "states = ee.FeatureCollection(\"TIGER/2018/States\")\n",
    "\n",
    "# Set visualization parameters.\n",
    "vis_params = {\n",
    "  'min': 0,\n",
    "  'max': 4000,\n",
    "  'palette': ['006633', 'E5FFCC', '662A00', 'D8D8D8', 'F5F5F5']}\n",
    "\n",
    "# Add Earth Eninge layers to Map\n",
    "Map.addLayer(dem, vis_params, 'SRTM DEM', True, 0.5)\n",
    "Map.addLayer(landcover, {}, 'Land cover')\n",
    "Map.addLayer(landsat7, {'bands': ['B4', 'B3', 'B2'], 'min': 20, 'max': 200}, 'Landsat 7')\n",
    "Map.addLayer(states, {}, \"US States\")"
   ]
  },
  {
   "cell_type": "markdown",
   "id": "2530e7d4",
   "metadata": {},
   "source": [
    "## Search Earth Engine locations\n"
   ]
  },
  {
   "cell_type": "code",
   "execution_count": 58,
   "id": "1695af46",
   "metadata": {},
   "outputs": [
    {
     "data": {
      "application/vnd.jupyter.widget-view+json": {
       "model_id": "d005cbcb1300457d9d12cb847ff74fca",
       "version_major": 2,
       "version_minor": 0
      },
      "text/plain": [
       "Map(center=[40, -100], controls=(WidgetControl(options=['position', 'transparent_bg'], widget=HBox(children=(T…"
      ]
     },
     "metadata": {},
     "output_type": "display_data"
    }
   ],
   "source": [
    "Map = geemap.Map()\n",
    "Map"
   ]
  },
  {
   "cell_type": "code",
   "execution_count": 59,
   "id": "741d845d",
   "metadata": {},
   "outputs": [],
   "source": [
    "Map.search_locations"
   ]
  },
  {
   "cell_type": "code",
   "execution_count": 60,
   "id": "cfacdc84",
   "metadata": {},
   "outputs": [],
   "source": [
    "Map.search_loc_geom"
   ]
  },
  {
   "cell_type": "code",
   "execution_count": 61,
   "id": "2e9ef54a",
   "metadata": {},
   "outputs": [],
   "source": [
    "location = Map.search_loc_geom\n",
    "# print(location.getInfo())"
   ]
  },
  {
   "cell_type": "markdown",
   "id": "3fe9fb30",
   "metadata": {},
   "source": [
    "## Search Earth Engine API documentation"
   ]
  },
  {
   "cell_type": "code",
   "execution_count": 62,
   "id": "68198010",
   "metadata": {},
   "outputs": [
    {
     "data": {
      "application/vnd.jupyter.widget-view+json": {
       "model_id": "4308d1f561da4d33be476ccf71fc0726",
       "version_major": 2,
       "version_minor": 0
      },
      "text/plain": [
       "HBox(children=(VBox(), VBox()))"
      ]
     },
     "metadata": {},
     "output_type": "display_data"
    }
   ],
   "source": [
    "geemap.ee_search()"
   ]
  },
  {
   "cell_type": "markdown",
   "id": "5e24608f",
   "metadata": {},
   "source": [
    "## Use Inspector tool\n",
    "\n"
   ]
  },
  {
   "cell_type": "code",
   "execution_count": 64,
   "id": "2d84714b",
   "metadata": {},
   "outputs": [
    {
     "data": {
      "application/vnd.jupyter.widget-view+json": {
       "model_id": "956e2bdf24544e5994e844bb18473232",
       "version_major": 2,
       "version_minor": 0
      },
      "text/plain": [
       "Map(center=[40, -100], controls=(WidgetControl(options=['position', 'transparent_bg'], widget=HBox(children=(T…"
      ]
     },
     "metadata": {},
     "output_type": "display_data"
    }
   ],
   "source": [
    "Map = geemap.Map()\n",
    "\n",
    "# Add Earth Engine dataset\n",
    "dem = ee.Image('USGS/SRTMGL1_003')\n",
    "landcover = ee.Image(\"ESA/GLOBCOVER_L4_200901_200912_V2_3\").select('landcover')\n",
    "landsat7 = ee.Image('LE7_TOA_5YEAR/1999_2003')\n",
    "states = ee.FeatureCollection(\"TIGER/2018/States\")\n",
    "\n",
    "# Set visualization parameters.\n",
    "vis_params = {\n",
    "  'min': 0,\n",
    "  'max': 4000,\n",
    "  'palette': ['006633', 'E5FFCC', '662A00', 'D8D8D8', 'F5F5F5']}\n",
    "\n",
    "# Add Earth Eninge layers to Map\n",
    "Map.addLayer(dem, vis_params, 'SRTM DEM', True, 0.5)\n",
    "Map.addLayer(landcover, {}, 'Land cover')\n",
    "Map.addLayer(landsat7, {'bands': ['B4', 'B3', 'B2'], 'min': 20, 'max': 200}, 'Landsat 7')\n",
    "Map.addLayer(states, {}, \"US States\")\n",
    "\n",
    "Map"
   ]
  },
  {
   "cell_type": "markdown",
   "id": "3bbf97d7",
   "metadata": {},
   "source": [
    "## Use Plotting tool"
   ]
  },
  {
   "cell_type": "code",
   "execution_count": 69,
   "id": "2a3feb0b",
   "metadata": {
    "scrolled": true
   },
   "outputs": [
    {
     "data": {
      "application/vnd.jupyter.widget-view+json": {
       "model_id": "6f4e0547212e4e73aac02c4172882c27",
       "version_major": 2,
       "version_minor": 0
      },
      "text/plain": [
       "Map(center=[40, -100], controls=(WidgetControl(options=['position', 'transparent_bg'], widget=HBox(children=(T…"
      ]
     },
     "metadata": {},
     "output_type": "display_data"
    }
   ],
   "source": [
    "Map = geemap.Map()\n",
    "\n",
    "landsat7 = ee.Image('LE7_TOA_5YEAR/1999_2003') \\\n",
    "    .select([0, 1, 2, 3, 4, 6])\n",
    "landsat_vis = {\n",
    "    'bands': ['B4', 'B3', 'B2'], \n",
    "    'gamma': 1.4\n",
    "}\n",
    "Map.addLayer(landsat7, landsat_vis, \"LE7_TOA_5YEAR/1999_2003\")\n",
    "\n",
    "hyperion = ee.ImageCollection('EO1/HYPERION') \\\n",
    "    .filter(ee.Filter.date('2016-01-01', '2017-03-01'))\n",
    "hyperion_vis = {\n",
    "  'min': 1000.0,\n",
    "  'max': 14000.0,\n",
    "  'gamma': 2.5,\n",
    "}\n",
    "Map.addLayer(hyperion, hyperion_vis, 'EO1/HYPERION')\n",
    "\n",
    "Map"
   ]
  },
  {
   "cell_type": "code",
   "execution_count": 70,
   "id": "075892b2",
   "metadata": {},
   "outputs": [],
   "source": [
    "Map.set_plot_options(plot_type='bar', add_marker_cluster=True)"
   ]
  },
  {
   "cell_type": "markdown",
   "id": "d5036713",
   "metadata": {},
   "source": [
    "## Create a split-panel map"
   ]
  },
  {
   "cell_type": "code",
   "execution_count": 71,
   "id": "3a02d732",
   "metadata": {},
   "outputs": [
    {
     "data": {
      "application/vnd.jupyter.widget-view+json": {
       "model_id": "cc9eb458f9cc4ce18267460eac10219b",
       "version_major": 2,
       "version_minor": 0
      },
      "text/plain": [
       "Map(center=[40, -100], controls=(WidgetControl(options=['position', 'transparent_bg'], widget=HBox(children=(T…"
      ]
     },
     "metadata": {},
     "output_type": "display_data"
    }
   ],
   "source": [
    "Map = geemap.Map()\n",
    "Map.split_map(left_layer='HYBRID', right_layer='ROADMAP')\n",
    "Map"
   ]
  },
  {
   "cell_type": "code",
   "execution_count": 72,
   "id": "4c1b7a32",
   "metadata": {},
   "outputs": [
    {
     "data": {
      "application/vnd.jupyter.widget-view+json": {
       "model_id": "e707d8d49b87443fbb90ec5bf6e05a1f",
       "version_major": 2,
       "version_minor": 0
      },
      "text/plain": [
       "Map(center=[40, -100], controls=(WidgetControl(options=['position', 'transparent_bg'], widget=HBox(children=(T…"
      ]
     },
     "metadata": {},
     "output_type": "display_data"
    }
   ],
   "source": [
    "Map = geemap.Map()\n",
    "Map.split_map(left_layer='NLCD 2016 CONUS Land Cover', right_layer='NLCD 2001 CONUS Land Cover')\n",
    "Map"
   ]
  },
  {
   "cell_type": "code",
   "execution_count": 73,
   "id": "0720eb18",
   "metadata": {},
   "outputs": [
    {
     "data": {
      "application/vnd.jupyter.widget-view+json": {
       "model_id": "c512a147de794836b8d7dfbd59955c02",
       "version_major": 2,
       "version_minor": 0
      },
      "text/plain": [
       "Map(center=[40, -100], controls=(WidgetControl(options=['position', 'transparent_bg'], widget=HBox(children=(T…"
      ]
     },
     "metadata": {},
     "output_type": "display_data"
    }
   ],
   "source": [
    "nlcd_2001 = ee.Image('USGS/NLCD/NLCD2001').select('landcover')\n",
    "nlcd_2016 = ee.Image('USGS/NLCD/NLCD2016').select('landcover')\n",
    "\n",
    "left_layer = geemap.ee_tile_layer(nlcd_2001, {}, 'NLCD 2001')\n",
    "right_layer = geemap.ee_tile_layer(nlcd_2016, {}, 'NLCD 2016')\n",
    "\n",
    "Map = geemap.Map()\n",
    "Map.split_map(left_layer, right_layer)\n",
    "Map"
   ]
  },
  {
   "cell_type": "markdown",
   "id": "c803d612",
   "metadata": {},
   "source": [
    "## Add marker cluster"
   ]
  },
  {
   "cell_type": "code",
   "execution_count": 74,
   "id": "db5a9875",
   "metadata": {},
   "outputs": [],
   "source": [
    "import geemap\n",
    "import json\n",
    "import os\n",
    "import requests\n",
    "from geemap import geojson_to_ee, ee_to_geojson\n",
    "from ipyleaflet import GeoJSON, Marker, MarkerCluster"
   ]
  },
  {
   "cell_type": "code",
   "execution_count": 80,
   "id": "ea845d86",
   "metadata": {
    "scrolled": true
   },
   "outputs": [
    {
     "data": {
      "application/vnd.jupyter.widget-view+json": {
       "model_id": "e792a8d9e7c24bb5ac67238279854e02",
       "version_major": 2,
       "version_minor": 0
      },
      "text/plain": [
       "Map(center=[40, -100], controls=(WidgetControl(options=['position', 'transparent_bg'], widget=HBox(children=(T…"
      ]
     },
     "metadata": {},
     "output_type": "display_data"
    }
   ],
   "source": [
    "Map = geemap.Map()\n",
    "Map"
   ]
  },
  {
   "cell_type": "code",
   "execution_count": 81,
   "id": "9dafd926",
   "metadata": {},
   "outputs": [],
   "source": [
    "file_path = os.path.join(os.getcwd(), 'us-cities.json')\n",
    "\n",
    "if not os.path.exists(file_path):\n",
    "    url = 'https://github.com/giswqs/geemap/raw/master/examples/data/us-cities.json'\n",
    "    r = requests.get(url)\n",
    "    with open(file_path, 'w') as f:\n",
    "        f.write(r.content.decode(\"utf-8\"))        \n",
    "\n",
    "with open(file_path) as f:\n",
    "    json_data = json.load(f)\n",
    "    "
   ]
  },
  {
   "cell_type": "code",
   "execution_count": 82,
   "id": "28130299",
   "metadata": {},
   "outputs": [],
   "source": [
    "maker_cluster = MarkerCluster(\n",
    "    markers=[Marker(location=feature['geometry']['coordinates'][::-1]) for feature in json_data['features']],\n",
    "    name = 'Markers')"
   ]
  },
  {
   "cell_type": "code",
   "execution_count": 83,
   "id": "e1cb34d0",
   "metadata": {},
   "outputs": [],
   "source": [
    "Map.add_layer(maker_cluster)"
   ]
  },
  {
   "cell_type": "code",
   "execution_count": 84,
   "id": "e04d89e0",
   "metadata": {},
   "outputs": [],
   "source": [
    "ee_fc = geojson_to_ee(json_data)\n",
    "Map.addLayer(ee_fc, {}, \"US Cities EE\")"
   ]
  },
  {
   "cell_type": "markdown",
   "id": "6db4b727",
   "metadata": {},
   "source": [
    "## Add customized legends"
   ]
  },
  {
   "cell_type": "code",
   "execution_count": 86,
   "id": "710ae137",
   "metadata": {},
   "outputs": [
    {
     "data": {
      "application/vnd.jupyter.widget-view+json": {
       "model_id": "4dff0b1d6cd64898b8593bd3e4b0846a",
       "version_major": 2,
       "version_minor": 0
      },
      "text/plain": [
       "Map(center=[40, -100], controls=(WidgetControl(options=['position', 'transparent_bg'], widget=HBox(children=(T…"
      ]
     },
     "metadata": {},
     "output_type": "display_data"
    }
   ],
   "source": [
    "Map = geemap.Map()\n",
    "Map.add_basemap('HYBRID')\n",
    "Map.add_basemap('FWS NWI Wetlands')\n",
    "Map.add_legend(builtin_legend='NWI')\n",
    "Map"
   ]
  },
  {
   "cell_type": "code",
   "execution_count": 88,
   "id": "5814ad0c",
   "metadata": {},
   "outputs": [
    {
     "data": {
      "application/vnd.jupyter.widget-view+json": {
       "model_id": "28a0fb4b665741598b9ce9c2cff2363e",
       "version_major": 2,
       "version_minor": 0
      },
      "text/plain": [
       "Map(center=[40, -100], controls=(WidgetControl(options=['position', 'transparent_bg'], widget=HBox(children=(T…"
      ]
     },
     "metadata": {},
     "output_type": "display_data"
    }
   ],
   "source": [
    "Map = geemap.Map()\n",
    "Map.add_basemap('HYBRID')\n",
    "Map.add_basemap('FWS NWI Wetlands')\n",
    "Map.add_legend(builtin_legend='NWI')\n",
    "Map"
   ]
  },
  {
   "cell_type": "code",
   "execution_count": 89,
   "id": "f822b584",
   "metadata": {},
   "outputs": [
    {
     "data": {
      "application/vnd.jupyter.widget-view+json": {
       "model_id": "5f5ee9c960d7412d89c7bb6e68144c8d",
       "version_major": 2,
       "version_minor": 0
      },
      "text/plain": [
       "Map(center=[40, -100], controls=(WidgetControl(options=['position', 'transparent_bg'], widget=HBox(children=(T…"
      ]
     },
     "metadata": {},
     "output_type": "display_data"
    }
   ],
   "source": [
    "Map = geemap.Map()\n",
    "\n",
    "legend_dict = {\n",
    "    '11 Open Water': '466b9f',\n",
    "    '12 Perennial Ice/Snow': 'd1def8',\n",
    "    '21 Developed, Open Space': 'dec5c5',\n",
    "    '22 Developed, Low Intensity': 'd99282',\n",
    "    '23 Developed, Medium Intensity': 'eb0000',\n",
    "    '24 Developed High Intensity': 'ab0000',\n",
    "    '31 Barren Land (Rock/Sand/Clay)': 'b3ac9f',\n",
    "    '41 Deciduous Forest': '68ab5f',\n",
    "    '42 Evergreen Forest': '1c5f2c',\n",
    "    '43 Mixed Forest': 'b5c58f',\n",
    "    '51 Dwarf Scrub': 'af963c',\n",
    "    '52 Shrub/Scrub': 'ccb879',\n",
    "    '71 Grassland/Herbaceous': 'dfdfc2',\n",
    "    '72 Sedge/Herbaceous': 'd1d182',\n",
    "    '73 Lichens': 'a3cc51',\n",
    "    '74 Moss': '82ba9e',\n",
    "    '81 Pasture/Hay': 'dcd939',\n",
    "    '82 Cultivated Crops': 'ab6c28',\n",
    "    '90 Woody Wetlands': 'b8d9eb',\n",
    "    '95 Emergent Herbaceous Wetlands': '6c9fb8'\n",
    "}\n",
    "\n",
    "landcover = ee.Image('USGS/NLCD/NLCD2016').select('landcover')\n",
    "Map.addLayer(landcover, {}, 'NLCD Land Cover')\n",
    "\n",
    "Map.add_legend(legend_title=\"NLCD Land Cover Classification\", legend_dict=legend_dict)\n",
    "Map"
   ]
  },
  {
   "cell_type": "code",
   "execution_count": 90,
   "id": "eb57e81a",
   "metadata": {},
   "outputs": [
    {
     "data": {
      "application/vnd.jupyter.widget-view+json": {
       "model_id": "d83a082c969b4bc286d69abeaa2807cf",
       "version_major": 2,
       "version_minor": 0
      },
      "text/plain": [
       "Map(center=[46.529, 6.746], controls=(WidgetControl(options=['position', 'transparent_bg'], widget=HBox(childr…"
      ]
     },
     "metadata": {},
     "output_type": "display_data"
    }
   ],
   "source": [
    "# https://developers.google.com/earth-engine/datasets/catalog/MODIS_051_MCD12Q1\n",
    "Map = geemap.Map()\n",
    "\n",
    "ee_class_table = \"\"\"\n",
    "\n",
    "Value\tColor\tDescription\n",
    "0\t1c0dff\tWater\n",
    "1\t05450a\tEvergreen needleleaf forest\n",
    "2\t086a10\tEvergreen broadleaf forest\n",
    "3\t54a708\tDeciduous needleleaf forest\n",
    "4\t78d203\tDeciduous broadleaf forest\n",
    "5\t009900\tMixed forest\n",
    "6\tc6b044\tClosed shrublands\n",
    "7\tdcd159\tOpen shrublands\n",
    "8\tdade48\tWoody savannas\n",
    "9\tfbff13\tSavannas\n",
    "10\tb6ff05\tGrasslands\n",
    "11\t27ff87\tPermanent wetlands\n",
    "12\tc24f44\tCroplands\n",
    "13\ta5a5a5\tUrban and built-up\n",
    "14\tff6d4c\tCropland/natural vegetation mosaic\n",
    "15\t69fff8\tSnow and ice\n",
    "16\tf9ffa4\tBarren or sparsely vegetated\n",
    "254\tffffff\tUnclassified\n",
    "\n",
    "\"\"\"\n",
    "\n",
    "landcover = ee.Image('MODIS/051/MCD12Q1/2013_01_01') \\\n",
    "    .select('Land_Cover_Type_1')\n",
    "Map.setCenter(6.746, 46.529, 2)\n",
    "Map.addLayer(landcover, {}, 'MODIS Land Cover')\n",
    "\n",
    "legend_dict = geemap.legend_from_ee(ee_class_table)\n",
    "Map.add_legend(legend_title=\"MODIS Global Land Cover\", legend_dict=legend_dict)\n",
    "\n",
    "Map"
   ]
  },
  {
   "cell_type": "markdown",
   "id": "10644567",
   "metadata": {},
   "source": [
    "## Use Drawing tools"
   ]
  },
  {
   "cell_type": "code",
   "execution_count": 93,
   "id": "76c45148",
   "metadata": {},
   "outputs": [
    {
     "data": {
      "application/vnd.jupyter.widget-view+json": {
       "model_id": "09ae15d526274d4a9b5d36df497d50ea",
       "version_major": 2,
       "version_minor": 0
      },
      "text/plain": [
       "Map(center=[40, -100], controls=(WidgetControl(options=['position', 'transparent_bg'], widget=HBox(children=(T…"
      ]
     },
     "metadata": {},
     "output_type": "display_data"
    }
   ],
   "source": [
    "Map = geemap.Map()\n",
    "Map"
   ]
  },
  {
   "cell_type": "code",
   "execution_count": 98,
   "id": "0ff35b4e",
   "metadata": {},
   "outputs": [],
   "source": [
    "# Add Earth Engine dataset\n",
    "image = ee.Image('USGS/SRTMGL1_003')\n",
    "\n",
    "# Set visualization parameters.\n",
    "vis_params = {\n",
    "  'min': 0,\n",
    "  'max': 4000,\n",
    "  'palette': ['006633', 'E5FFCC', '662A00', 'D8D8D8', 'F5F5F5']}\n",
    "\n",
    "# Add Earth Engine DEM to map\n",
    "Map.addLayer(image, vis_params, 'SRTM DEM')\n",
    "\n",
    "states = ee.FeatureCollection(\"TIGER/2018/States\")\n",
    "Map.addLayer(states, {}, 'US States')"
   ]
  },
  {
   "cell_type": "markdown",
   "id": "21e8ddb4",
   "metadata": {},
   "source": [
    "## Convert JavaScripts to Python\n",
    "\n",
    "You can simply copy and paste your GEE JavaScripts into a code block wrapped with trip quotes and pass it to a variable. \n",
    "\n",
    "For example, you can grap GEE JavaScripts from [GEE Documentation](https://developers.google.com/earth-engine/image_visualization)."
   ]
  },
  {
   "cell_type": "code",
   "execution_count": 100,
   "id": "df39642e",
   "metadata": {},
   "outputs": [],
   "source": [
    "js_snippet = \"\"\"\n",
    "// Load an image.\n",
    "var image = ee.Image('LANDSAT/LC08/C01/T1_TOA/LC08_044034_20140318');\n",
    "\n",
    "// Define the visualization parameters.\n",
    "var vizParams = {\n",
    "  bands: ['B5', 'B4', 'B3'],\n",
    "  min: 0,\n",
    "  max: 0.5,\n",
    "  gamma: [0.95, 1.1, 1]\n",
    "};\n",
    "\n",
    "// Center the map and display the image.\n",
    "Map.setCenter(-122.1899, 37.5010, 10); // San Francisco Bay\n",
    "Map.addLayer(image, vizParams, 'false color composite');\n",
    "\n",
    "\"\"\""
   ]
  },
  {
   "cell_type": "code",
   "execution_count": 101,
   "id": "2c63d3a4",
   "metadata": {},
   "outputs": [],
   "source": [
    "geemap.js_snippet_to_py(js_snippet, add_new_cell=True, import_ee=True, import_geemap=True, show_map=True)"
   ]
  },
  {
   "cell_type": "code",
   "execution_count": 102,
   "id": "db2f3070",
   "metadata": {},
   "outputs": [
    {
     "data": {
      "application/vnd.jupyter.widget-view+json": {
       "model_id": "4a5da53ad61e43528d4e918a958f8937",
       "version_major": 2,
       "version_minor": 0
      },
      "text/plain": [
       "Map(center=[37.501, -122.1899], controls=(WidgetControl(options=['position', 'transparent_bg'], widget=HBox(ch…"
      ]
     },
     "metadata": {},
     "output_type": "display_data"
    }
   ],
   "source": [
    "import ee\n",
    "import geemap\n",
    "\n",
    "Map = geemap.Map()\n",
    "\n",
    "# Load an image.\n",
    "image = ee.Image('LANDSAT/LC08/C01/T1_TOA/LC08_044034_20140318')\n",
    "\n",
    "# Define the visualization parameters.\n",
    "vizParams = {\n",
    "  'bands': ['B5', 'B4', 'B3'],\n",
    "  'min': 0,\n",
    "  'max': 0.5,\n",
    "  'gamma': [0.95, 1.1, 1]\n",
    "}\n",
    "\n",
    "# Center the map and display the image.\n",
    "Map.setCenter(-122.1899, 37.5010, 10); # San Francisco Bay\n",
    "Map.addLayer(image, vizParams, 'False color composite')\n",
    "Map\n"
   ]
  },
  {
   "cell_type": "code",
   "execution_count": 103,
   "id": "88f4cb22",
   "metadata": {},
   "outputs": [
    {
     "data": {
      "application/vnd.jupyter.widget-view+json": {
       "model_id": "902ed45e9b03439c875026cdae35aa02",
       "version_major": 2,
       "version_minor": 0
      },
      "text/plain": [
       "Map(center=[37.501, -122.1899], controls=(WidgetControl(options=['position', 'transparent_bg'], widget=HBox(ch…"
      ]
     },
     "metadata": {},
     "output_type": "display_data"
    }
   ],
   "source": [
    "import ee\n",
    "import geemap\n",
    "\n",
    "Map = geemap.Map()\n",
    "\n",
    "# Load an image.\n",
    "image = ee.Image('LANDSAT/LC08/C01/T1_TOA/LC08_044034_20140318')\n",
    "\n",
    "# Define the visualization parameters.\n",
    "vizParams = {\n",
    "  'bands': ['B5', 'B4', 'B3'],\n",
    "  'min': 0,\n",
    "  'max': 0.5,\n",
    "  'gamma': [0.95, 1.1, 1]\n",
    "}\n",
    "\n",
    "# Center the map and display the image.\n",
    "Map.setCenter(-122.1899, 37.5010, 10); # San Francisco Bay\n",
    "Map.addLayer(image, vizParams, 'False color composite')\n",
    "Map"
   ]
  },
  {
   "cell_type": "markdown",
   "id": "05b921a0",
   "metadata": {},
   "source": [
    "## Use shapefiles"
   ]
  },
  {
   "cell_type": "code",
   "execution_count": 109,
   "id": "15a2b351",
   "metadata": {},
   "outputs": [
    {
     "data": {
      "application/vnd.jupyter.widget-view+json": {
       "model_id": "6e455e01eb7c44b2851b3c4e272c9d77",
       "version_major": 2,
       "version_minor": 0
      },
      "text/plain": [
       "Map(center=[40, -100], controls=(WidgetControl(options=['position', 'transparent_bg'], widget=HBox(children=(T…"
      ]
     },
     "metadata": {},
     "output_type": "display_data"
    }
   ],
   "source": [
    "Map = geemap.Map()\n",
    "Map"
   ]
  },
  {
   "cell_type": "code",
   "execution_count": null,
   "id": "aee9f7d8",
   "metadata": {},
   "outputs": [],
   "source": [
    "\n"
   ]
  },
  {
   "cell_type": "code",
   "execution_count": null,
   "id": "3918bc99",
   "metadata": {},
   "outputs": [],
   "source": [
    "\n"
   ]
  },
  {
   "cell_type": "code",
   "execution_count": null,
   "id": "75c6bc28",
   "metadata": {},
   "outputs": [],
   "source": []
  },
  {
   "cell_type": "code",
   "execution_count": null,
   "id": "dba19c26",
   "metadata": {},
   "outputs": [],
   "source": []
  }
 ],
 "metadata": {
  "kernelspec": {
   "display_name": "Python 3",
   "language": "python",
   "name": "python3"
  },
  "language_info": {
   "codemirror_mode": {
    "name": "ipython",
    "version": 3
   },
   "file_extension": ".py",
   "mimetype": "text/x-python",
   "name": "python",
   "nbconvert_exporter": "python",
   "pygments_lexer": "ipython3",
   "version": "3.9.5"
  }
 },
 "nbformat": 4,
 "nbformat_minor": 5
}
